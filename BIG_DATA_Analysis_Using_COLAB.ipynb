{
  "nbformat": 4,
  "nbformat_minor": 0,
  "metadata": {
    "colab": {
      "name": "BIG DATA Analysis Using COLAB.ipynb",
      "provenance": [],
      "authorship_tag": "ABX9TyMB0XvNUpjWc1dMS+MhsLeq",
      "include_colab_link": true
    },
    "kernelspec": {
      "name": "python3",
      "display_name": "Python 3"
    }
  },
  "cells": [
    {
      "cell_type": "markdown",
      "metadata": {
        "id": "view-in-github",
        "colab_type": "text"
      },
      "source": [
        "<a href=\"https://colab.research.google.com/github/vettrivikas/Survival_Analysis/blob/main/BIG_DATA_Analysis_Using_COLAB.ipynb\" target=\"_parent\"><img src=\"https://colab.research.google.com/assets/colab-badge.svg\" alt=\"Open In Colab\"/></a>"
      ]
    },
    {
      "cell_type": "code",
      "metadata": {
        "id": "yfQ4vYmLwR-k"
      },
      "source": [
        "!apt-get install openjdk-8-jdk-headless -qq > /dev/null"
      ],
      "execution_count": 2,
      "outputs": []
    },
    {
      "cell_type": "code",
      "metadata": {
        "id": "zXj3jrtowfp-"
      },
      "source": [
        "!wget -q https://downloads.apache.org/spark/spark-3.0.2/spark-3.0.2-bin-hadoop2.7.tgz"
      ],
      "execution_count": 3,
      "outputs": []
    },
    {
      "cell_type": "code",
      "metadata": {
        "id": "5FHFcyrJwwQX"
      },
      "source": [
        "!tar xf spark-3.0.2-bin-hadoop2.7.tgz"
      ],
      "execution_count": 4,
      "outputs": []
    },
    {
      "cell_type": "code",
      "metadata": {
        "id": "1hKHUwWnzEP5"
      },
      "source": [
        "!pip install -q findspark"
      ],
      "execution_count": 5,
      "outputs": []
    },
    {
      "cell_type": "code",
      "metadata": {
        "id": "AdV6DjqzyM4T"
      },
      "source": [
        "import os\r\n",
        "os.environ[\"JAVA_HOME\"] = \"/usr/lib/jvm/java-8-openjdk-amd64\"\r\n",
        "os.environ[\"SPARK_HOME\"] = \"/content/spark-3.0.2-bin-hadoop2.7\""
      ],
      "execution_count": null,
      "outputs": []
    },
    {
      "cell_type": "code",
      "metadata": {
        "id": "GoxK5XQizfiC"
      },
      "source": [
        "import findspark\r\n",
        "findspark.init()"
      ],
      "execution_count": null,
      "outputs": []
    },
    {
      "cell_type": "code",
      "metadata": {
        "id": "ZetT2Yojzwzb"
      },
      "source": [
        "from pyspark.sql import SparkSession\r\n",
        "spark = SparkSession.builder\\\r\n",
        "        .master(\"local\")\\\r\n",
        "        .appName(\"Colab\")\\\r\n",
        "        .config('spark.ui.port', '4050')\\\r\n",
        "        .getOrCreate()"
      ],
      "execution_count": null,
      "outputs": []
    },
    {
      "cell_type": "code",
      "metadata": {
        "colab": {
          "base_uri": "https://localhost:8080/",
          "height": 216
        },
        "id": "GwCn9_ln0hUy",
        "outputId": "bef607da-b75c-410c-b789-5e03359727cf"
      },
      "source": [
        "spark"
      ],
      "execution_count": null,
      "outputs": [
        {
          "output_type": "execute_result",
          "data": {
            "text/html": [
              "\n",
              "            <div>\n",
              "                <p><b>SparkSession - in-memory</b></p>\n",
              "                \n",
              "        <div>\n",
              "            <p><b>SparkContext</b></p>\n",
              "\n",
              "            <p><a href=\"http://fe39c2b20b80:4050\">Spark UI</a></p>\n",
              "\n",
              "            <dl>\n",
              "              <dt>Version</dt>\n",
              "                <dd><code>v3.0.2</code></dd>\n",
              "              <dt>Master</dt>\n",
              "                <dd><code>local</code></dd>\n",
              "              <dt>AppName</dt>\n",
              "                <dd><code>Colab</code></dd>\n",
              "            </dl>\n",
              "        </div>\n",
              "        \n",
              "            </div>\n",
              "        "
            ],
            "text/plain": [
              "<pyspark.sql.session.SparkSession at 0x7f1c1dfd0320>"
            ]
          },
          "metadata": {
            "tags": []
          },
          "execution_count": 23
        }
      ]
    },
    {
      "cell_type": "code",
      "metadata": {
        "colab": {
          "base_uri": "https://localhost:8080/"
        },
        "id": "bxi3vXuX0vnx",
        "outputId": "2e246e22-b5a6-4b19-f93b-b69b330801e7"
      },
      "source": [
        "!wget https://bin.equinox.io/c/4VmDzA7iaHb/ngrok-stable-linux-amd64.zip\r\n",
        "!unzip ngrok-stable-linux-amd64.zip"
      ],
      "execution_count": null,
      "outputs": [
        {
          "output_type": "stream",
          "text": [
            "--2021-02-23 07:38:28--  https://bin.equinox.io/c/4VmDzA7iaHb/ngrok-stable-linux-amd64.zip\n",
            "Resolving bin.equinox.io (bin.equinox.io)... 54.209.129.196, 34.196.154.11, 34.234.81.220, ...\n",
            "Connecting to bin.equinox.io (bin.equinox.io)|54.209.129.196|:443... connected.\n",
            "HTTP request sent, awaiting response... 200 OK\n",
            "Length: 13773305 (13M) [application/octet-stream]\n",
            "Saving to: ‘ngrok-stable-linux-amd64.zip.1’\n",
            "\n",
            "ngrok-stable-linux- 100%[===================>]  13.13M  61.9MB/s    in 0.2s    \n",
            "\n",
            "2021-02-23 07:38:28 (61.9 MB/s) - ‘ngrok-stable-linux-amd64.zip.1’ saved [13773305/13773305]\n",
            "\n",
            "Archive:  ngrok-stable-linux-amd64.zip\n",
            "  inflating: ngrok                   \n"
          ],
          "name": "stdout"
        }
      ]
    },
    {
      "cell_type": "code",
      "metadata": {
        "colab": {
          "base_uri": "https://localhost:8080/"
        },
        "id": "W_P0Omxi027D",
        "outputId": "9b4ec024-f7f9-442c-f4e1-1b6b852b80cb"
      },
      "source": [
        "get_ipython().system_raw('./ngrok http 4050 &')\r\n",
        "!curl -s http://localhost:4040/api/tunnels"
      ],
      "execution_count": null,
      "outputs": [
        {
          "output_type": "stream",
          "text": [
            "{\"tunnels\":[{\"name\":\"command_line (http)\",\"uri\":\"/api/tunnels/command_line%20%28http%29\",\"public_url\":\"http://7f6739e8ef30.ngrok.io\",\"proto\":\"http\",\"config\":{\"addr\":\"http://localhost:4050\",\"inspect\":true},\"metrics\":{\"conns\":{\"count\":0,\"gauge\":0,\"rate1\":0,\"rate5\":0,\"rate15\":0,\"p50\":0,\"p90\":0,\"p95\":0,\"p99\":0},\"http\":{\"count\":0,\"rate1\":0,\"rate5\":0,\"rate15\":0,\"p50\":0,\"p90\":0,\"p95\":0,\"p99\":0}}},{\"name\":\"command_line\",\"uri\":\"/api/tunnels/command_line\",\"public_url\":\"https://7f6739e8ef30.ngrok.io\",\"proto\":\"https\",\"config\":{\"addr\":\"http://localhost:4050\",\"inspect\":true},\"metrics\":{\"conns\":{\"count\":0,\"gauge\":0,\"rate1\":0,\"rate5\":0,\"rate15\":0,\"p50\":0,\"p90\":0,\"p95\":0,\"p99\":0},\"http\":{\"count\":0,\"rate1\":0,\"rate5\":0,\"rate15\":0,\"p50\":0,\"p90\":0,\"p95\":0,\"p99\":0}}}],\"uri\":\"/api/tunnels\"}\n"
          ],
          "name": "stdout"
        }
      ]
    },
    {
      "cell_type": "code",
      "metadata": {
        "id": "hTFQ4VTH1fuj"
      },
      "source": [
        "df = spark.read.csv(\"/content/Files/bone-marrow-dataset.csv\", header = True, inferSchema = True)"
      ],
      "execution_count": null,
      "outputs": []
    },
    {
      "cell_type": "code",
      "metadata": {
        "colab": {
          "base_uri": "https://localhost:8080/"
        },
        "id": "4Kbvoa4g2Vxo",
        "outputId": "41b809f2-2c89-4ea3-8396-5a08c4fbf1f0"
      },
      "source": [
        "df.printSchema()"
      ],
      "execution_count": null,
      "outputs": [
        {
          "output_type": "stream",
          "text": [
            "root\n",
            " |-- donor_age: double (nullable = true)\n",
            " |-- donor_age_below_35: string (nullable = true)\n",
            " |-- donor_ABO: string (nullable = true)\n",
            " |-- donor_CMV: string (nullable = true)\n",
            " |-- recipient_age: double (nullable = true)\n",
            " |-- recipient_age_below_10: string (nullable = true)\n",
            " |-- recipient_age_int: string (nullable = true)\n",
            " |-- recipient_gender: string (nullable = true)\n",
            " |-- recipient_body_mass: string (nullable = true)\n",
            " |-- recipient_ABO: string (nullable = true)\n",
            " |-- recipient_rh: string (nullable = true)\n",
            " |-- recipient_CMV: string (nullable = true)\n",
            " |-- disease: string (nullable = true)\n",
            " |-- disease_group: string (nullable = true)\n",
            " |-- gender_match: string (nullable = true)\n",
            " |-- ABO_match: string (nullable = true)\n",
            " |-- CMV_status: string (nullable = true)\n",
            " |-- HLA_match: string (nullable = true)\n",
            " |-- HLA_mismatch: string (nullable = true)\n",
            " |-- antigen: string (nullable = true)\n",
            " |-- allel: string (nullable = true)\n",
            " |-- HLA_group_1: string (nullable = true)\n",
            " |-- risk_group: string (nullable = true)\n",
            " |-- stem_cell_source: string (nullable = true)\n",
            " |-- tx_post_relapse: string (nullable = true)\n",
            " |-- CD34_x1e6_per_kg: double (nullable = true)\n",
            " |-- CD3_x1e8_per_kg: string (nullable = true)\n",
            " |-- CD3_to_CD34_ratio: string (nullable = true)\n",
            " |-- ANC_recovery: string (nullable = true)\n",
            " |-- time_to_ANC_recovery: string (nullable = true)\n",
            " |-- PLT_recovery: string (nullable = true)\n",
            " |-- time_to_PLT_recovery: string (nullable = true)\n",
            " |-- acute_GvHD_II_III_IV: string (nullable = true)\n",
            " |-- acute_GvHD_III_IV: string (nullable = true)\n",
            " |-- time_to_acute_GvHD_III_IV: string (nullable = true)\n",
            " |-- extensive_chronic_GvHD: string (nullable = true)\n",
            " |-- relapse: string (nullable = true)\n",
            " |-- survival_time: double (nullable = true)\n",
            " |-- survival_status: integer (nullable = true)\n",
            "\n"
          ],
          "name": "stdout"
        }
      ]
    },
    {
      "cell_type": "code",
      "metadata": {
        "colab": {
          "base_uri": "https://localhost:8080/"
        },
        "id": "UlCnssHH2oNF",
        "outputId": "76d4156f-2641-4671-829f-43bb92dbe439"
      },
      "source": [
        "df.show()"
      ],
      "execution_count": null,
      "outputs": [
        {
          "output_type": "stream",
          "text": [
            "+---------+------------------+---------+---------+-------------+----------------------+-----------------+----------------+-------------------+-------------+------------+-------------+------------+-------------+--------------+----------+----------+---------+------------+-------+-----+-----------+----------+----------------+---------------+----------------+---------------+-----------------+------------+--------------------+------------+--------------------+--------------------+-----------------+-------------------------+----------------------+-------+-------------+---------------+\n",
            "|donor_age|donor_age_below_35|donor_ABO|donor_CMV|recipient_age|recipient_age_below_10|recipient_age_int|recipient_gender|recipient_body_mass|recipient_ABO|recipient_rh|recipient_CMV|     disease|disease_group|  gender_match| ABO_match|CMV_status|HLA_match|HLA_mismatch|antigen|allel|HLA_group_1|risk_group|stem_cell_source|tx_post_relapse|CD34_x1e6_per_kg|CD3_x1e8_per_kg|CD3_to_CD34_ratio|ANC_recovery|time_to_ANC_recovery|PLT_recovery|time_to_PLT_recovery|acute_GvHD_II_III_IV|acute_GvHD_III_IV|time_to_acute_GvHD_III_IV|extensive_chronic_GvHD|relapse|survival_time|survival_status|\n",
            "+---------+------------------+---------+---------+-------------+----------------------+-----------------+----------------+-------------------+-------------+------------+-------------+------------+-------------+--------------+----------+----------+---------+------------+-------+-----+-----------+----------+----------------+---------------+----------------+---------------+-----------------+------------+--------------------+------------+--------------------+--------------------+-----------------+-------------------------+----------------------+-------+-------------+---------------+\n",
            "|22.830137|               yes|        A|  present|          9.6|                   yes|             5_10|            male|               35.0|            A|        plus|      present|         ALL|    malignant|         other|   matched|         3|    10/10|     matched|      0|    0|    matched|      high|peripheral_blood|             no|             7.2|           5.38|          1.33876|         yes|                19.0|         yes|                51.0|                 yes|              yes|                     32.0|                    no|     no|        999.0|              0|\n",
            "|23.342466|               yes|        B|   absent|          4.0|                   yes|              0_5|            male|               20.6|            B|        plus|       absent|         ALL|    malignant|         other|   matched|         0|    10/10|     matched|      0|    0|    matched|       low|     bone_marrow|             no|             4.5|           0.41|        11.078295|         yes|                16.0|         yes|                37.0|                 yes|               no|                        ?|                    no|    yes|        163.0|              1|\n",
            "|26.394521|               yes|        B|   absent|          6.6|                   yes|             5_10|            male|               23.4|            B|        plus|      present|         ALL|    malignant|         other|   matched|         2|    10/10|     matched|      0|    0|    matched|       low|     bone_marrow|             no|            7.94|           0.42|         19.01323|         yes|                23.0|         yes|                20.0|                 yes|               no|                        ?|                    no|    yes|        435.0|              1|\n",
            "|39.684932|                no|        A|  present|         18.1|                    no|            10_20|          female|               50.0|           AB|        plus|       absent|         AML|    malignant|         other|mismatched|         1|    10/10|     matched|      0|    0|    matched|       low|     bone_marrow|             no|            4.25|           0.14|        29.481647|         yes|                23.0|         yes|                29.0|                 yes|              yes|                     19.0|                     ?|     no|         53.0|              1|\n",
            "|33.358904|               yes|        A|   absent|          1.3|                   yes|              0_5|          female|                9.0|           AB|       minus|      present|     chronic|    malignant|         other|mismatched|         0|     9/10|     matched|      2|    1|one_antigen|      high|peripheral_blood|             no|           51.85|          13.05|         3.972255|         yes|                14.0|         yes|                14.0|                  no|               no|                        ?|                    no|     no|       2043.0|              0|\n",
            "|27.391781|               yes|       AB|        ?|          8.9|                   yes|             5_10|            male|               40.0|            0|        plus|      present|     chronic|    malignant|         other|mismatched|         ?|    10/10|     matched|      0|    0|    matched|      high|     bone_marrow|            yes|            3.27|           0.39|         8.412758|         yes|                16.0|         yes|                70.0|                  no|               no|                        ?|                    no|     no|       2800.0|              0|\n",
            "|34.520548|               yes|        0|   absent|         14.4|                    no|            10_20|          female|               51.0|            A|       minus|            ?|         AML|    malignant|         other|mismatched|         ?|    10/10|     matched|      0|    0|    matched|       low|peripheral_blood|             no|           17.78|           7.39|         2.406248|         yes|                17.0|         yes|                29.0|                 yes|              yes|                     18.0|                     ?|     no|         41.0|              1|\n",
            "|21.435616|               yes|        0|  present|         18.2|                    no|            10_20|            male|               56.0|            A|        plus|       absent|nonmalignant| nonmalignant|         other|mismatched|         1|     7/10|  mismatched|      2|    3| mismatched|       low|     bone_marrow|             no|            6.41|              ?|                ?|         yes|                22.0|         yes|                58.0|                 yes|              yes|                     22.0|                     ?|     no|         45.0|              1|\n",
            "|32.641096|               yes|       AB|   absent|          7.9|                   yes|             5_10|            male|               20.5|            0|        plus|      present|nonmalignant| nonmalignant|         other|mismatched|         2|    10/10|     matched|      0|    0|    matched|       low|peripheral_blood|             no|           23.54|           6.24|         3.772555|         yes|                15.0|         yes|                14.0|                  no|               no|                        ?|                    no|     no|        671.0|              0|\n",
            "|28.783562|               yes|        A|   absent|          4.7|                   yes|              0_5|            male|               16.5|            0|        plus|      present|nonmalignant| nonmalignant|female_to_male|mismatched|         2|     9/10|     matched|      1|    2|  DRB1_cell|       low|peripheral_blood|             no|            7.69|           7.43|         1.035244|         yes|                16.0|         yes|                17.0|                 yes|               no|                        ?|                    no|     no|        676.0|              0|\n",
            "|29.731507|               yes|        0|  present|          1.9|                   yes|              0_5|          female|               10.5|            B|        plus|       absent|     chronic|    malignant|         other|mismatched|         1|     9/10|     matched|      1|    2|  one_allel|      high|peripheral_blood|             no|           17.66|           1.49|        11.883664|         yes|                12.0|         yes|                13.0|                  no|               no|                        ?|                   yes|     no|        599.0|              0|\n",
            "|     36.8|                no|        A|   absent|         13.4|                    no|            10_20|          female|               47.0|            A|        plus|       absent|     chronic|    malignant|         other|   matched|         0|     8/10|  mismatched|      2|    2|  two_diffs|      high|peripheral_blood|             no|           14.46|           6.45|         2.242442|         yes|                11.0|         yes|                16.0|                 yes|               no|                        ?|                   yes|     no|       2503.0|              0|\n",
            "|40.863014|                no|        0|  present|          5.1|                   yes|             5_10|            male|               18.1|            A|        plus|       absent|         ALL|    malignant|         other|mismatched|         1|    10/10|     matched|      0|    0|    matched|       low|peripheral_blood|             no|           15.42|           5.64|         2.734654|         yes|                14.0|         yes|                37.0|                  no|               no|                        ?|                    no|     no|        964.0|              0|\n",
            "| 30.60274|               yes|        0|   absent|         11.5|                    no|            10_20|            male|               42.0|            A|        plus|      present|    lymphoma|    malignant|         other|mismatched|         0|    10/10|     matched|      0|    0|    matched|      high|     bone_marrow|             no|            3.14|           0.85|         3.713956|         yes|                20.0|         yes|                48.0|                 yes|               no|                        ?|                    no|    yes|        335.0|              1|\n",
            "|30.676712|               yes|        A|   absent|         17.8|                    no|            10_20|            male|               55.0|            A|        plus|       absent|         AML|    malignant|         other|   matched|         0|    10/10|     matched|      0|    0|    matched|      high|peripheral_blood|             no|            8.03|           3.55|          2.26309|         yes|                16.0|         yes|                16.0|                 yes|               no|                        ?|                    no|     no|       1432.0|              0|\n",
            "|41.164384|                no|        0|  present|         13.5|                    no|            10_20|            male|               30.0|            B|        plus|      present|     chronic|    malignant|         other|mismatched|         3|     9/10|     matched|      2|    1|one_antigen|      high|     bone_marrow|             no|            4.79|            0.4|        12.028841|         yes|                17.0|         yes|                19.0|                  no|               no|                        ?|                    no|     no|       3288.0|              0|\n",
            "|40.232877|                no|       AB|  present|         17.9|                    no|            10_20|            male|               97.8|            0|        plus|       absent|     chronic|    malignant|         other|mismatched|         1|     9/10|     matched|      1|    2|  one_allel|       low|peripheral_blood|             no|            5.45|           3.42|         1.595133|         yes|                11.0|         yes|                16.0|                 yes|               no|                        ?|                     ?|     no|         58.0|              1|\n",
            "|40.821918|                no|       AB|  present|          4.7|                   yes|              0_5|          female|               20.5|            0|        plus|       absent|     chronic|    malignant|         other|mismatched|         1|    10/10|     matched|      0|    0|    matched|       low|peripheral_blood|             no|           20.72|           5.64|         3.676416|         yes|                13.0|         yes|                23.0|                 yes|               no|                        ?|                    no|     no|       1615.0|              0|\n",
            "|43.375342|                no|        0|   absent|          0.6|                   yes|              0_5|          female|                6.0|            A|        plus|            ?|         ALL|    malignant|         other|mismatched|         ?|    10/10|     matched|      0|    0|    matched|       low|peripheral_blood|             no|           22.97|          16.31|         1.408646|         yes|                24.0|         yes|                74.0|                 yes|               no|                        ?|                    no|     no|        704.0|              0|\n",
            "|31.745205|               yes|        A|  present|         17.7|                    no|            10_20|            male|               64.0|            0|        plus|      present|         ALL|    malignant|         other|mismatched|         3|    10/10|     matched|      0|    0|    matched|       low|peripheral_blood|             no|            8.84|           5.16|         1.711795|         yes|                17.0|         yes|                25.0|                  no|               no|                        ?|                    no|     no|        884.0|              0|\n",
            "+---------+------------------+---------+---------+-------------+----------------------+-----------------+----------------+-------------------+-------------+------------+-------------+------------+-------------+--------------+----------+----------+---------+------------+-------+-----+-----------+----------+----------------+---------------+----------------+---------------+-----------------+------------+--------------------+------------+--------------------+--------------------+-----------------+-------------------------+----------------------+-------+-------------+---------------+\n",
            "only showing top 20 rows\n",
            "\n"
          ],
          "name": "stdout"
        }
      ]
    },
    {
      "cell_type": "code",
      "metadata": {
        "colab": {
          "base_uri": "https://localhost:8080/"
        },
        "id": "lCY4Luqj24Nt",
        "outputId": "38f4cb1e-3a3f-411f-932f-1a6ab6cadcd1"
      },
      "source": [
        "df.count()"
      ],
      "execution_count": null,
      "outputs": [
        {
          "output_type": "execute_result",
          "data": {
            "text/plain": [
              "187"
            ]
          },
          "metadata": {
            "tags": []
          },
          "execution_count": 36
        }
      ]
    },
    {
      "cell_type": "code",
      "metadata": {
        "colab": {
          "base_uri": "https://localhost:8080/"
        },
        "id": "Wy8dc4yJ29ar",
        "outputId": "1ea85d3d-c76e-41a7-b190-f9d500ae247c"
      },
      "source": [
        "df.select(\"donor_age\",\"recipient_gender\",\"risk_group\",\"survival_time\",\"survival_status\").show(5)"
      ],
      "execution_count": null,
      "outputs": [
        {
          "output_type": "stream",
          "text": [
            "+---------+----------------+----------+-------------+---------------+\n",
            "|donor_age|recipient_gender|risk_group|survival_time|survival_status|\n",
            "+---------+----------------+----------+-------------+---------------+\n",
            "|22.830137|            male|      high|        999.0|              0|\n",
            "|23.342466|            male|       low|        163.0|              1|\n",
            "|26.394521|            male|       low|        435.0|              1|\n",
            "|39.684932|          female|       low|         53.0|              1|\n",
            "|33.358904|          female|      high|       2043.0|              0|\n",
            "+---------+----------------+----------+-------------+---------------+\n",
            "only showing top 5 rows\n",
            "\n"
          ],
          "name": "stdout"
        }
      ]
    },
    {
      "cell_type": "code",
      "metadata": {
        "colab": {
          "base_uri": "https://localhost:8080/"
        },
        "id": "c5E2g8Xn3nx6",
        "outputId": "598e1f08-b094-4fbf-915d-063a0d355192"
      },
      "source": [
        "df.select(\"risk_group\").distinct().show()"
      ],
      "execution_count": null,
      "outputs": [
        {
          "output_type": "stream",
          "text": [
            "+----------+\n",
            "|risk_group|\n",
            "+----------+\n",
            "|       low|\n",
            "|      high|\n",
            "+----------+\n",
            "\n"
          ],
          "name": "stdout"
        }
      ]
    },
    {
      "cell_type": "markdown",
      "metadata": {
        "id": "9NXdxly94WIb"
      },
      "source": [
        "Aggregate with Groupby"
      ]
    },
    {
      "cell_type": "code",
      "metadata": {
        "colab": {
          "base_uri": "https://localhost:8080/"
        },
        "id": "ZjAMw8VT4M5N",
        "outputId": "1c25bc71-6069-44b4-c3c2-5cdc01a897dc"
      },
      "source": [
        "from pyspark.sql import functions as F\r\n",
        "df.groupby(\"risk_group\").agg(F.sum(\"survival_time\")).show()"
      ],
      "execution_count": null,
      "outputs": [
        {
          "output_type": "stream",
          "text": [
            "+----------+------------------+\n",
            "|risk_group|sum(survival_time)|\n",
            "+----------+------------------+\n",
            "|       low|          114502.0|\n",
            "|      high|           61043.0|\n",
            "+----------+------------------+\n",
            "\n"
          ],
          "name": "stdout"
        }
      ]
    },
    {
      "cell_type": "markdown",
      "metadata": {
        "id": "mLlfKKGI4_uk"
      },
      "source": [
        "Counting and Removing Null values"
      ]
    },
    {
      "cell_type": "code",
      "metadata": {
        "colab": {
          "base_uri": "https://localhost:8080/"
        },
        "id": "H0gD14ej4xBH",
        "outputId": "eb82a59d-7b9b-42e3-f738-eb60e04966c1"
      },
      "source": [
        "df.select([F.count(F.when(F.isnull(c), c)).alias(c) for c in df.columns]).show()"
      ],
      "execution_count": null,
      "outputs": [
        {
          "output_type": "stream",
          "text": [
            "+---------+------------------+---------+---------+-------------+----------------------+-----------------+----------------+-------------------+-------------+------------+-------------+-------+-------------+------------+---------+----------+---------+------------+-------+-----+-----------+----------+----------------+---------------+----------------+---------------+-----------------+------------+--------------------+------------+--------------------+--------------------+-----------------+-------------------------+----------------------+-------+-------------+---------------+\n",
            "|donor_age|donor_age_below_35|donor_ABO|donor_CMV|recipient_age|recipient_age_below_10|recipient_age_int|recipient_gender|recipient_body_mass|recipient_ABO|recipient_rh|recipient_CMV|disease|disease_group|gender_match|ABO_match|CMV_status|HLA_match|HLA_mismatch|antigen|allel|HLA_group_1|risk_group|stem_cell_source|tx_post_relapse|CD34_x1e6_per_kg|CD3_x1e8_per_kg|CD3_to_CD34_ratio|ANC_recovery|time_to_ANC_recovery|PLT_recovery|time_to_PLT_recovery|acute_GvHD_II_III_IV|acute_GvHD_III_IV|time_to_acute_GvHD_III_IV|extensive_chronic_GvHD|relapse|survival_time|survival_status|\n",
            "+---------+------------------+---------+---------+-------------+----------------------+-----------------+----------------+-------------------+-------------+------------+-------------+-------+-------------+------------+---------+----------+---------+------------+-------+-----+-----------+----------+----------------+---------------+----------------+---------------+-----------------+------------+--------------------+------------+--------------------+--------------------+-----------------+-------------------------+----------------------+-------+-------------+---------------+\n",
            "|        0|                 0|        0|        0|            0|                     0|                0|               0|                  0|            0|           0|            0|      0|            0|           0|        0|         0|        0|           0|      0|    0|          0|         0|               0|              0|               0|              0|                0|           0|                   0|           0|                   0|                   0|                0|                        0|                     0|      0|            0|              0|\n",
            "+---------+------------------+---------+---------+-------------+----------------------+-----------------+----------------+-------------------+-------------+------------+-------------+-------+-------------+------------+---------+----------+---------+------------+-------+-----+-----------+----------+----------------+---------------+----------------+---------------+-----------------+------------+--------------------+------------+--------------------+--------------------+-----------------+-------------------------+----------------------+-------+-------------+---------------+\n",
            "\n"
          ],
          "name": "stdout"
        }
      ]
    },
    {
      "cell_type": "code",
      "metadata": {
        "id": "K6Vj18JP5Wn-"
      },
      "source": [
        "df.write.csv(\"/content/Files/simple\")"
      ],
      "execution_count": null,
      "outputs": []
    },
    {
      "cell_type": "code",
      "metadata": {
        "colab": {
          "base_uri": "https://localhost:8080/"
        },
        "id": "pOuXetyH5k8X",
        "outputId": "27a9bdb6-6db3-4fe8-add6-115e6def8fd3"
      },
      "source": [
        "df.rdd.getNumPartitions()"
      ],
      "execution_count": null,
      "outputs": [
        {
          "output_type": "execute_result",
          "data": {
            "text/plain": [
              "1"
            ]
          },
          "metadata": {
            "tags": []
          },
          "execution_count": 49
        }
      ]
    },
    {
      "cell_type": "code",
      "metadata": {
        "id": "PF8D3edf6qwJ"
      },
      "source": [
        "#Spark df to Pandas df\r\n",
        "df_pd = df.toPandas()"
      ],
      "execution_count": null,
      "outputs": []
    },
    {
      "cell_type": "code",
      "metadata": {
        "id": "fSgO3xVA6yNc"
      },
      "source": [
        "# Store result\r\n",
        "df_pd.to_csv(\"/content/Files/pandas_preprocessed_data.csv\")"
      ],
      "execution_count": null,
      "outputs": []
    },
    {
      "cell_type": "code",
      "metadata": {
        "colab": {
          "base_uri": "https://localhost:8080/",
          "height": 35
        },
        "id": "WCD1UFgxb3R7",
        "outputId": "868612d0-ab74-4444-d5bd-b77460975c9c"
      },
      "source": [
        "pwd"
      ],
      "execution_count": null,
      "outputs": [
        {
          "output_type": "execute_result",
          "data": {
            "application/vnd.google.colaboratory.intrinsic+json": {
              "type": "string"
            },
            "text/plain": [
              "'/content'"
            ]
          },
          "metadata": {
            "tags": []
          },
          "execution_count": 52
        }
      ]
    },
    {
      "cell_type": "code",
      "metadata": {
        "colab": {
          "base_uri": "https://localhost:8080/"
        },
        "id": "3mF1SbCWeatL",
        "outputId": "1ce84e92-14bb-44c6-bf54-e5935671a316"
      },
      "source": [
        "pip install mrjob"
      ],
      "execution_count": 1,
      "outputs": [
        {
          "output_type": "stream",
          "text": [
            "Collecting mrjob\n",
            "\u001b[?25l  Downloading https://files.pythonhosted.org/packages/8e/58/fc28ab743aba16e90736ad4e29694bd2adaf7b879376ff149306d50c4e90/mrjob-0.7.4-py2.py3-none-any.whl (439kB)\n",
            "\r\u001b[K     |▊                               | 10kB 13.7MB/s eta 0:00:01\r\u001b[K     |█▌                              | 20kB 12.1MB/s eta 0:00:01\r\u001b[K     |██▎                             | 30kB 8.7MB/s eta 0:00:01\r\u001b[K     |███                             | 40kB 7.8MB/s eta 0:00:01\r\u001b[K     |███▊                            | 51kB 4.2MB/s eta 0:00:01\r\u001b[K     |████▌                           | 61kB 4.8MB/s eta 0:00:01\r\u001b[K     |█████▏                          | 71kB 5.0MB/s eta 0:00:01\r\u001b[K     |██████                          | 81kB 5.3MB/s eta 0:00:01\r\u001b[K     |██████▊                         | 92kB 5.6MB/s eta 0:00:01\r\u001b[K     |███████▌                        | 102kB 5.7MB/s eta 0:00:01\r\u001b[K     |████████▏                       | 112kB 5.7MB/s eta 0:00:01\r\u001b[K     |█████████                       | 122kB 5.7MB/s eta 0:00:01\r\u001b[K     |█████████▊                      | 133kB 5.7MB/s eta 0:00:01\r\u001b[K     |██████████▍                     | 143kB 5.7MB/s eta 0:00:01\r\u001b[K     |███████████▏                    | 153kB 5.7MB/s eta 0:00:01\r\u001b[K     |████████████                    | 163kB 5.7MB/s eta 0:00:01\r\u001b[K     |████████████▊                   | 174kB 5.7MB/s eta 0:00:01\r\u001b[K     |█████████████▍                  | 184kB 5.7MB/s eta 0:00:01\r\u001b[K     |██████████████▏                 | 194kB 5.7MB/s eta 0:00:01\r\u001b[K     |███████████████                 | 204kB 5.7MB/s eta 0:00:01\r\u001b[K     |███████████████▋                | 215kB 5.7MB/s eta 0:00:01\r\u001b[K     |████████████████▍               | 225kB 5.7MB/s eta 0:00:01\r\u001b[K     |█████████████████▏              | 235kB 5.7MB/s eta 0:00:01\r\u001b[K     |██████████████████              | 245kB 5.7MB/s eta 0:00:01\r\u001b[K     |██████████████████▋             | 256kB 5.7MB/s eta 0:00:01\r\u001b[K     |███████████████████▍            | 266kB 5.7MB/s eta 0:00:01\r\u001b[K     |████████████████████▏           | 276kB 5.7MB/s eta 0:00:01\r\u001b[K     |████████████████████▉           | 286kB 5.7MB/s eta 0:00:01\r\u001b[K     |█████████████████████▋          | 296kB 5.7MB/s eta 0:00:01\r\u001b[K     |██████████████████████▍         | 307kB 5.7MB/s eta 0:00:01\r\u001b[K     |███████████████████████         | 317kB 5.7MB/s eta 0:00:01\r\u001b[K     |███████████████████████▉        | 327kB 5.7MB/s eta 0:00:01\r\u001b[K     |████████████████████████▋       | 337kB 5.7MB/s eta 0:00:01\r\u001b[K     |█████████████████████████▍      | 348kB 5.7MB/s eta 0:00:01\r\u001b[K     |██████████████████████████      | 358kB 5.7MB/s eta 0:00:01\r\u001b[K     |██████████████████████████▉     | 368kB 5.7MB/s eta 0:00:01\r\u001b[K     |███████████████████████████▋    | 378kB 5.7MB/s eta 0:00:01\r\u001b[K     |████████████████████████████▎   | 389kB 5.7MB/s eta 0:00:01\r\u001b[K     |█████████████████████████████   | 399kB 5.7MB/s eta 0:00:01\r\u001b[K     |█████████████████████████████▉  | 409kB 5.7MB/s eta 0:00:01\r\u001b[K     |██████████████████████████████▋ | 419kB 5.7MB/s eta 0:00:01\r\u001b[K     |███████████████████████████████▎| 430kB 5.7MB/s eta 0:00:01\r\u001b[K     |████████████████████████████████| 440kB 5.7MB/s \n",
            "\u001b[?25hRequirement already satisfied: PyYAML>=3.10 in /usr/local/lib/python3.7/dist-packages (from mrjob) (3.13)\n",
            "Installing collected packages: mrjob\n",
            "Successfully installed mrjob-0.7.4\n"
          ],
          "name": "stdout"
        }
      ]
    }
  ]
}